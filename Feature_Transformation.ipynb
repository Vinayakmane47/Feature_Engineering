{
 "cells": [
  {
   "cell_type": "markdown",
   "id": "3b18f5c9",
   "metadata": {},
   "source": [
    "### 1. Transforming variables with the logarithm"
   ]
  },
  {
   "cell_type": "code",
   "execution_count": null,
   "id": "bff28023",
   "metadata": {},
   "outputs": [],
   "source": [
    "## Log-Transform for making normally distributed data \n",
    "import scipy.stats as stats\n",
    "from sklearn.preprocessing import FunctionTransformer\n",
    "from feature_engine.transformation import LogTransformer\n",
    "\n",
    "## By using pandas and numpy \n",
    "data[['LSTAT', 'NOX', 'DIS', 'RM']] = np.log(data[['LSTAT','NOX', 'DIS', 'RM']])\n",
    "\n",
    "## By using Sckit-learn \n",
    "tranformer = FunctionTransformer(np.log)\n",
    "tranformer.fit_transform(df[['LSTAT','NOX', 'DIS', 'RM']])\n",
    "\n",
    "\n",
    "# By using Feature Engine : \n",
    "lt = LogTransformer(variables = ['LSTAT', 'NOX', 'DIS', 'RM'])\n",
    "lt.fit_transform(df)\n",
    "\n",
    "## For checking normal distribition : \n",
    "def diagnostic_plots(df, variable):\n",
    "    plt.figure(figsize=(15,6))\n",
    "    plt.subplot(1, 2, 1)\n",
    "    df[variable].hist(bins=30)\n",
    "    plt.subplot(1, 2, 2)\n",
    "    stats.probplot(df[variable], dist=\"norm\", plot=plt)\n",
    "    plt.show()"
   ]
  },
  {
   "cell_type": "markdown",
   "id": "2a33f586",
   "metadata": {},
   "source": [
    "### 2. Transforming variables with the reciprocal function"
   ]
  },
  {
   "cell_type": "code",
   "execution_count": null,
   "id": "7a98a884",
   "metadata": {},
   "outputs": [],
   "source": [
    "import scipy.stats as stats\n",
    "from sklearn.datasets import load_boston\n",
    "from sklearn.preprocessing import FunctionTransformer\n",
    "from feature_engine.transformation import ReciprocalTransformer\n",
    "\n",
    "## By using numpy \n",
    "data[['LSTAT', 'NOX', 'DIS', 'RM']] = np.reciprocal(df[['LSTAT', 'NOX', 'DIS', 'RM']])\n",
    "\n",
    "## By using Sckit-learn \n",
    "transformer = FunctionTransformer(np.reciprocal) \n",
    "transformer.fit_transform(data[['LSTAT', 'NOX', 'DIS', 'RM']])\n",
    "\n",
    "## By using Feature Engine \n",
    "rt = ReciprocalTransformer(variables = ['LSTAT', 'NOX', 'DIS', 'RM'])\n",
    "rt.fit_transform(data)\n",
    "\n"
   ]
  },
  {
   "cell_type": "markdown",
   "id": "a4db0c65",
   "metadata": {},
   "source": [
    "### 3. Using square and cube root to transform variables\n"
   ]
  },
  {
   "cell_type": "code",
   "execution_count": null,
   "id": "f886b8dd",
   "metadata": {},
   "outputs": [],
   "source": [
    "from sklearn.preprocessing import FunctionTransformer\n",
    "\n",
    "## By using numpy \n",
    "data_tf[['LSTAT', 'NOX', 'DIS', 'RM']] = np.sqrt(data[['LSTAT','NOX', 'DIS', 'RM']])\n",
    "data_tf[['LSTAT', 'NOX', 'DIS', 'RM']] = np.cbrt(data[['LSTAT','NOX', 'DIS', 'RM']])\n",
    "\n",
    "## By using Sckit-learn \n",
    "transformer = FunctionTransformer(np.sqrt)\n",
    "transformer.fit_transform(data[['LSTAT','NOX', 'DIS', 'RM']])\n"
   ]
  },
  {
   "cell_type": "markdown",
   "id": "763876a2",
   "metadata": {},
   "source": [
    "### 4. Using power transformations on numerical variables\n"
   ]
  },
  {
   "cell_type": "code",
   "execution_count": null,
   "id": "4d68806f",
   "metadata": {},
   "outputs": [],
   "source": [
    "from sklearn.preprocessing import FunctionTransformer\n",
    "from feature_engine.transformers import PowerTransformer\n",
    "\n",
    "## By using numpy \n",
    "data_tf[['LSTAT', 'NOX', 'DIS', 'RM']] = np.power(data[['LSTAT','NOX', 'DIS', 'RM']], 0.3)\n",
    " \n",
    "## By using Sckit-learn \n",
    "transformer = FunctionTransformer(lambda x: np.power(x, 0.3))\n",
    "transformer.fit_transform(data)\n",
    "\n",
    "## By using feature engine \n",
    "et = PowerTransformer(variables = ['LSTAT', 'NOX', 'DIS', 'RM'],exp=0.3)\n",
    "et.fit_transform(data)"
   ]
  },
  {
   "attachments": {
    "image.png": {
     "image/png": "[encoded data removed]"
    }
   },
   "cell_type": "markdown",
   "id": "8cbb29a3",
   "metadata": {},
   "source": [
    "### 4. Performing Box-Cox transformation on numerical variables\n",
    "- The Box-Cox transformation can only be used on positive variables. If your variables have negative values, try the Yeo-Johnson transformation\n",
    "- The Box-Cox transformation belongs to the power family of functions and is defined by\n",
    "![image.png](attachment:image.png)"
   ]
  },
  {
   "cell_type": "code",
   "execution_count": null,
   "id": "b7bce33f",
   "metadata": {},
   "outputs": [],
   "source": [
    "from sklearn.preprocessing import PowerTransformer\n",
    "from feature_engine.transformation import BoxCoxTransformer \n",
    "\n",
    "## By using scipy \n",
    "data['LSTAT'], param = stats.boxcox(df['LSTAT']) ## Takes only one dimensional data \n",
    "print(\"Lmbda value : \",param)\n",
    "\n",
    "## By using Sckit-learn \n",
    "transformer = PowerTransformer(method='box-cox', standardize=False) \n",
    "transformer.fit_transform(data)\n",
    "\n",
    "## By using feature engine \n",
    "bct = BoxCoxTransformer(variables = ['LSTAT', 'NOX', 'DIS', 'RM'])\n",
    "bct.fit_transform(data)\n",
    "\n",
    "\n"
   ]
  },
  {
   "cell_type": "code",
   "execution_count": null,
   "id": "48f1a174",
   "metadata": {},
   "outputs": [],
   "source": []
  },
  {
   "cell_type": "code",
   "execution_count": null,
   "id": "e47e33d6",
   "metadata": {},
   "outputs": [],
   "source": []
  },
  {
   "cell_type": "code",
   "execution_count": null,
   "id": "1f01fb8b",
   "metadata": {},
   "outputs": [],
   "source": []
  }
 ],
 "metadata": {
  "kernelspec": {
   "display_name": "Python 3 (ipykernel)",
   "language": "python",
   "name": "python3"
  },
  "language_info": {
   "codemirror_mode": {
    "name": "ipython",
    "version": 3
   },
   "file_extension": ".py",
   "mimetype": "text/x-python",
   "name": "python",
   "nbconvert_exporter": "python",
   "pygments_lexer": "ipython3",
   "version": "3.9.12"
  }
 },
 "nbformat": 4,
 "nbformat_minor": 5
}
