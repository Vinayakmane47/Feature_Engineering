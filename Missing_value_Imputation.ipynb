{
 "cells": [
  {
   "cell_type": "code",
   "execution_count": null,
   "id": "6b16936c",
   "metadata": {},
   "outputs": [],
   "source": [
    "import pandas as pd \n",
    "import numpy as np \n",
    "import matplotlib.pyplot as plt \n",
    "%matplotlib inline \n",
    "import seaborn as sns \n",
    "import pandas as pd\n",
    "from sklearn.model_selection import train_test_split\n",
    "from sklearn.impute import SimpleImputer\n",
    "from feature_engine.imputation import MeanMedianImputer"
   ]
  },
  {
   "cell_type": "markdown",
   "id": "1ab58c5d",
   "metadata": {},
   "source": [
    "## Imputing  Missing Values : "
   ]
  },
  {
   "cell_type": "markdown",
   "id": "58c1d9ac",
   "metadata": {},
   "source": [
    "#### 1. CCA : Complete Case Analysis : \n"
   ]
  },
  {
   "cell_type": "code",
   "execution_count": null,
   "id": "ea3f127b",
   "metadata": {},
   "outputs": [],
   "source": [
    "df.dropna()\n",
    "df.dropna(subset=[column_names])\n",
    "df.dropna(how=\"all\")"
   ]
  },
  {
   "cell_type": "markdown",
   "id": "a00c2c37",
   "metadata": {},
   "source": [
    "#### 2. SimpleImputers : "
   ]
  },
  {
   "cell_type": "code",
   "execution_count": null,
   "id": "9f730ae9",
   "metadata": {},
   "outputs": [],
   "source": [
    "from sklearn.impute import SimpleImputer \n",
    "imputer1 = SimpleImputer(strategy='mean')\n",
    "imputer2 = SimpleImputer(strategy='median')\n",
    "imputer1.fit(x)\n",
    "imputer1.transform(x)\n"
   ]
  },
  {
   "cell_type": "markdown",
   "id": "c9e98c41",
   "metadata": {},
   "source": [
    "#### 3. MeanMedianImputer : "
   ]
  },
  {
   "cell_type": "code",
   "execution_count": null,
   "id": "961ad89d",
   "metadata": {},
   "outputs": [],
   "source": [
    "from feature_engine.imputation import MeanMedianImputer\n",
    "median_imputer = MeanMedianImputer(imputation_method=\"median\")\n",
    "mean_imputer = MeanMedianImputer(imputation_method=\"mean\")\n",
    "median_imputer.fit(x)\n",
    "median_imputer.transform(x)\n",
    "median_imputer.imputer_dict_"
   ]
  },
  {
   "cell_type": "markdown",
   "id": "1eb5bffe",
   "metadata": {},
   "source": [
    "#### 3.Column Transformer : "
   ]
  },
  {
   "cell_type": "code",
   "execution_count": null,
   "id": "ed7ceb82",
   "metadata": {},
   "outputs": [],
   "source": [
    "from sklearn.pipeline import Pipeline \n",
    "from sklearn.compose import ColumnTransformer \n",
    "from sklearn.impute import SimpleImputer \n",
    "\n",
    "pipeline = Pipeline(steps=[\n",
    "    ('imputer',SimpleImputer(strategy='mean'))\n",
    "])\n",
    "\n",
    "columnTransform = ColumnTransformer(transformers=  [\n",
    "    \n",
    "    (\"simple_imputer\",pipeline,numerical_columns)\n",
    "])\n",
    "\n",
    "columnTransform.fit_transform(x)\n"
   ]
  },
  {
   "cell_type": "markdown",
   "id": "a5a14091",
   "metadata": {},
   "source": [
    "#### 4. Most Frequent Category or Mode : \n",
    "- Used for numeric as well as categorical features"
   ]
  },
  {
   "cell_type": "code",
   "execution_count": null,
   "id": "a5688443",
   "metadata": {},
   "outputs": [],
   "source": [
    "imputer1 = SimpleImputer(strategy=\"most_frequent\")"
   ]
  },
  {
   "cell_type": "markdown",
   "id": "3785c6cc",
   "metadata": {},
   "source": [
    "#### 5. Imputation using Arbitrary Values : \n",
    "- used for numeric features \n",
    "- replacing missing values using any random value"
   ]
  },
  {
   "cell_type": "code",
   "execution_count": null,
   "id": "23fecc56",
   "metadata": {},
   "outputs": [],
   "source": [
    "from sklearn.impute import SimpleImputer \n",
    "from feature_engine.missing_data_imputers import ArbitraryNumberImputer\n",
    "imputer = SimpleImputer(strategy='constant', fill_value=99)\n",
    "imputer.fit_transform(x)\n",
    "\n",
    "imputer = ArbitraryNumberImputer(arbitrary_number=99, variables=[column-names])\n",
    "imputer.fit_transform(x)"
   ]
  },
  {
   "cell_type": "markdown",
   "id": "0f699b0f",
   "metadata": {},
   "source": [
    "#### 6. Imputation using bespoke(custom-made) category : \n",
    "- Imputing missing values with \"Missing\" string"
   ]
  },
  {
   "cell_type": "code",
   "execution_count": null,
   "id": "67031983",
   "metadata": {},
   "outputs": [],
   "source": [
    "from sklearn.impute import SimpleImputer \n",
    "from feature_engine.missing_data_imputers import CategoricalVariableImputer\n",
    "\n",
    "imputer = SimpleImputer(strategy='constant', fill_value=\"Missing\")\n",
    "imputer.fit_transform(x)\n",
    "\n",
    "imputer = CategoricalVariableImputer(variables=[column-names])\n",
    "imputer.fit_transform(x)"
   ]
  },
  {
   "cell_type": "markdown",
   "id": "560aa855",
   "metadata": {},
   "source": [
    "#### 7.End of Tail imputation : \n",
    "- in this technique we impute missing values using IQR rule or standard formula. \n",
    "- value = df.quantile(0.75) + 1.5*IQR  --> for rightward values in dataset \n",
    "- value = df.quantile(0.25) - 1.5*IQR  --> for leftward values in dataset \n",
    "- value = df.mean() + 3*df.std() \n",
    "- or simply with , value = df.max()*3 \n",
    "- Do not preserve original distribution"
   ]
  },
  {
   "cell_type": "code",
   "execution_count": null,
   "id": "8ea80ba6",
   "metadata": {},
   "outputs": [],
   "source": [
    "from feature_engine.missing_data_imputers import EndTailImputer\n",
    "## for rightward skewed dataset --> df.quantile(0.75) + 1.5*IQR\n",
    "imputer = EndTailImputer(distribution='skewed', tail='right',\n",
    "                         variables=[columns])\n",
    "\n",
    "## for leftward skewed dataset --> df.quantile(0.25) - 1.5*IQR\n",
    "imputer = EndTailImputer(distribution='skewed', tail='left',\n",
    "                         variables=[columns])\n",
    "\n",
    "imputer.fit_transform(df)\n",
    "or \n",
    "df.dropna(df.mean()+3*df.std()) or df.dropna(3*df.max())\n",
    "imputer.imputer_dict_ --> check value "
   ]
  },
  {
   "cell_type": "markdown",
   "id": "ffddb176",
   "metadata": {},
   "source": [
    "#### 8. Random Sampling Imputer : \n",
    "- Preserves the original distribution"
   ]
  },
  {
   "cell_type": "code",
   "execution_count": null,
   "id": "8617f81a",
   "metadata": {},
   "outputs": [],
   "source": [
    "from feature_engine.missing_data_imputers import RandomSampleImputer\n",
    "imputer = RandomSampleImputer()\n",
    "imputer.fit(df)\n"
   ]
  },
  {
   "cell_type": "markdown",
   "id": "89df5121",
   "metadata": {},
   "source": [
    "#### 9. Replacing with Binary values (1/0) : "
   ]
  },
  {
   "cell_type": "code",
   "execution_count": null,
   "id": "bf08b6b2",
   "metadata": {},
   "outputs": [],
   "source": [
    "--> np.where(df.isnull(),1,0) # using pandas \n",
    "## feature engine function \n",
    "from sklearn.impute import MissingIndicator\n",
    "from feature_engine.missing_data_imputers import AddNaNBinaryImputer\n",
    "imputer = AddNaNBinaryImputer()\n",
    "imputer.fit(df)"
   ]
  },
  {
   "cell_type": "markdown",
   "id": "33c6ca69",
   "metadata": {},
   "source": [
    "### 10. Performing multivariate imputation by chained equations(MICE) \n",
    "- Each variable with missing data can be modeled based on the remaining variable by using multiple approaches, for example, linear regression, Bayes, decision trees, k-nearest neighbors, and random forests\n",
    "- Sckit-learn have iterativeImputer function.\n"
   ]
  },
  {
   "cell_type": "code",
   "execution_count": null,
   "id": "8c450bd6",
   "metadata": {},
   "outputs": [],
   "source": [
    "from sklearn.model_selection import train_test_split\n",
    "from sklearn.linear_model import BayesianRidge\n",
    "from sklearn.experimental import enable_iterative_imputer\n",
    "from sklearn.impute import IterativeImputer\n",
    "\n",
    "## 10 iterations are performed \n",
    "imputer = IterativeImputer(estimator = BayesianRidge(), max_iter=10, random_state=0)\n",
    "imputer.fit(df)\n",
    "imputer.transform(df)\n",
    "\n",
    "## We can use any algorithm inside iterative imputer \n",
    "imputer = IterativeImputer(estimator = LinearRegression(), max_iter=10, random_state=0)\n",
    "## DecisionTree , KNN , Random Forest "
   ]
  },
  {
   "cell_type": "markdown",
   "id": "d69bfd9c",
   "metadata": {},
   "source": [
    "###  Assembling an imputation pipeline with scikit-learn\n"
   ]
  },
  {
   "cell_type": "code",
   "execution_count": 5,
   "id": "382ba4ec",
   "metadata": {},
   "outputs": [],
   "source": [
    "import pandas as pd\n",
    "from sklearn.compose import ColumnTransformer\n",
    "from sklearn.pipeline import Pipeline\n",
    "from sklearn.impute import SimpleImputer\n",
    "from sklearn.model_selection import train_test_split\n"
   ]
  },
  {
   "cell_type": "code",
   "execution_count": 4,
   "id": "3f6d611a",
   "metadata": {},
   "outputs": [
    {
     "data": {
      "text/html": [
       "<div>\n",
       "<style scoped>\n",
       "    .dataframe tbody tr th:only-of-type {\n",
       "        vertical-align: middle;\n",
       "    }\n",
       "\n",
       "    .dataframe tbody tr th {\n",
       "        vertical-align: top;\n",
       "    }\n",
       "\n",
       "    .dataframe thead th {\n",
       "        text-align: right;\n",
       "    }\n",
       "</style>\n",
       "<table border=\"1\" class=\"dataframe\">\n",
       "  <thead>\n",
       "    <tr style=\"text-align: right;\">\n",
       "      <th></th>\n",
       "      <th>A0</th>\n",
       "      <th>A1</th>\n",
       "      <th>A2</th>\n",
       "      <th>A3</th>\n",
       "      <th>A4</th>\n",
       "      <th>A5</th>\n",
       "      <th>A6</th>\n",
       "      <th>A7</th>\n",
       "      <th>A8</th>\n",
       "      <th>A9</th>\n",
       "      <th>A10</th>\n",
       "      <th>A11</th>\n",
       "      <th>A12</th>\n",
       "      <th>A13</th>\n",
       "      <th>A14</th>\n",
       "      <th>A15</th>\n",
       "    </tr>\n",
       "  </thead>\n",
       "  <tbody>\n",
       "    <tr>\n",
       "      <th>0</th>\n",
       "      <td>b</td>\n",
       "      <td>30.83</td>\n",
       "      <td>0.000</td>\n",
       "      <td>u</td>\n",
       "      <td>g</td>\n",
       "      <td>w</td>\n",
       "      <td>v</td>\n",
       "      <td>1.25</td>\n",
       "      <td>t</td>\n",
       "      <td>t</td>\n",
       "      <td>1.0</td>\n",
       "      <td>f</td>\n",
       "      <td>g</td>\n",
       "      <td>202.0</td>\n",
       "      <td>0.0</td>\n",
       "      <td>1</td>\n",
       "    </tr>\n",
       "    <tr>\n",
       "      <th>1</th>\n",
       "      <td>a</td>\n",
       "      <td>58.67</td>\n",
       "      <td>4.460</td>\n",
       "      <td>u</td>\n",
       "      <td>g</td>\n",
       "      <td>q</td>\n",
       "      <td>h</td>\n",
       "      <td>3.04</td>\n",
       "      <td>t</td>\n",
       "      <td>t</td>\n",
       "      <td>6.0</td>\n",
       "      <td>f</td>\n",
       "      <td>g</td>\n",
       "      <td>43.0</td>\n",
       "      <td>560.0</td>\n",
       "      <td>1</td>\n",
       "    </tr>\n",
       "    <tr>\n",
       "      <th>2</th>\n",
       "      <td>a</td>\n",
       "      <td>24.50</td>\n",
       "      <td>0.500</td>\n",
       "      <td>NaN</td>\n",
       "      <td>g</td>\n",
       "      <td>q</td>\n",
       "      <td>h</td>\n",
       "      <td>1.50</td>\n",
       "      <td>NaN</td>\n",
       "      <td>NaN</td>\n",
       "      <td>NaN</td>\n",
       "      <td>f</td>\n",
       "      <td>g</td>\n",
       "      <td>280.0</td>\n",
       "      <td>824.0</td>\n",
       "      <td>1</td>\n",
       "    </tr>\n",
       "    <tr>\n",
       "      <th>3</th>\n",
       "      <td>b</td>\n",
       "      <td>27.83</td>\n",
       "      <td>1.540</td>\n",
       "      <td>u</td>\n",
       "      <td>g</td>\n",
       "      <td>w</td>\n",
       "      <td>v</td>\n",
       "      <td>3.75</td>\n",
       "      <td>t</td>\n",
       "      <td>t</td>\n",
       "      <td>5.0</td>\n",
       "      <td>t</td>\n",
       "      <td>g</td>\n",
       "      <td>100.0</td>\n",
       "      <td>3.0</td>\n",
       "      <td>1</td>\n",
       "    </tr>\n",
       "    <tr>\n",
       "      <th>4</th>\n",
       "      <td>b</td>\n",
       "      <td>20.17</td>\n",
       "      <td>5.625</td>\n",
       "      <td>u</td>\n",
       "      <td>g</td>\n",
       "      <td>w</td>\n",
       "      <td>v</td>\n",
       "      <td>1.71</td>\n",
       "      <td>t</td>\n",
       "      <td>f</td>\n",
       "      <td>0.0</td>\n",
       "      <td>f</td>\n",
       "      <td>s</td>\n",
       "      <td>120.0</td>\n",
       "      <td>0.0</td>\n",
       "      <td>1</td>\n",
       "    </tr>\n",
       "  </tbody>\n",
       "</table>\n",
       "</div>"
      ],
      "text/plain": [
       "  A0     A1     A2   A3 A4 A5 A6    A7   A8   A9  A10 A11 A12    A13    A14  \\\n",
       "0  b  30.83  0.000    u  g  w  v  1.25    t    t  1.0   f   g  202.0    0.0   \n",
       "1  a  58.67  4.460    u  g  q  h  3.04    t    t  6.0   f   g   43.0  560.0   \n",
       "2  a  24.50  0.500  NaN  g  q  h  1.50  NaN  NaN  NaN   f   g  280.0  824.0   \n",
       "3  b  27.83  1.540    u  g  w  v  3.75    t    t  5.0   t   g  100.0    3.0   \n",
       "4  b  20.17  5.625    u  g  w  v  1.71    t    f  0.0   f   s  120.0    0.0   \n",
       "\n",
       "   A15  \n",
       "0    1  \n",
       "1    1  \n",
       "2    1  \n",
       "3    1  \n",
       "4    1  "
      ]
     },
     "execution_count": 4,
     "metadata": {},
     "output_type": "execute_result"
    }
   ],
   "source": [
    "path = r\"C:\\Users\\manev\\Desktop\\iNeuron\\dataset\\missing_values\\numer_data.csv\"\n",
    "df = pd.read_csv(path)\n",
    "df.head()"
   ]
  },
  {
   "cell_type": "code",
   "execution_count": 8,
   "id": "929dfdc7",
   "metadata": {},
   "outputs": [],
   "source": [
    "X_train, X_test, y_train, y_test = train_test_split( df.drop('A15', axis=1),\n",
    "                                df['A15'], test_size=0.3,random_state=0)\n"
   ]
  },
  {
   "cell_type": "code",
   "execution_count": 9,
   "id": "9944e97c",
   "metadata": {},
   "outputs": [],
   "source": [
    "## Creating preferences for Imputation : \n",
    "features_num_arbitrary = ['A2', 'A7']\n",
    "features_num_median = ['A1', 'A13']\n",
    "features_cat_frequent = ['A3', 'A4', 'A5', 'A6']\n",
    "features_cat_missing = ['A0', 'A8', 'A9']\n"
   ]
  },
  {
   "cell_type": "code",
   "execution_count": 12,
   "id": "002a0f8f",
   "metadata": {},
   "outputs": [],
   "source": [
    "## A2 and A7 \n",
    "imputer_num_arbitrary = Pipeline(steps=[\n",
    " ('imputer', SimpleImputer(strategy='constant', fill_value=99)),\n",
    "])\n",
    "# A1 and A13 \n",
    "imputer_num_median = Pipeline(steps=[\n",
    " ('imputer', SimpleImputer(strategy='median')),\n",
    "])\n",
    "# A3 , A4 , A5 , A6 \n",
    "imputer_cat_frequent = Pipeline(steps=[\n",
    " ('imputer', SimpleImputer(strategy='most_frequent')),\n",
    "])\n",
    "# 'A0', 'A8', 'A9'\n",
    "imputer_cat_missing = Pipeline(steps=[\n",
    " ('imputer', SimpleImputer(strategy='constant',\n",
    "fill_value='Missing')),\n",
    "])"
   ]
  },
  {
   "cell_type": "code",
   "execution_count": 13,
   "id": "55b3b4bf",
   "metadata": {},
   "outputs": [],
   "source": [
    "## Applying Column Transformer : \n",
    "preprocessor = ColumnTransformer(transformers=[\n",
    " ('imp_num_arbitrary', imputer_num_arbitrary,features_num_arbitrary),\n",
    "    \n",
    " ('imp_num_median', imputer_num_median, features_num_median),\n",
    "    \n",
    " ('imp_cat_frequent', imputer_cat_frequent,features_cat_frequent),\n",
    "    \n",
    " ('imp_cat_missing', imputer_cat_missing, features_cat_missing),\n",
    "    \n",
    " ], remainder='passthrough')\n"
   ]
  },
  {
   "cell_type": "code",
   "execution_count": 18,
   "id": "10acc167",
   "metadata": {},
   "outputs": [
    {
     "data": {
      "text/plain": [
       "array([[3.0, 2.375, 46.08, ..., 't', 'g', 4159.0],\n",
       "       [2.875, 0.085, 15.92, ..., 'f', 'g', 0.0],\n",
       "       [2.125, 0.085, 36.33, ..., 'f', 'g', 1187.0],\n",
       "       ...,\n",
       "       [0.665, 1.665, 19.58, ..., 'f', 'g', 5.0],\n",
       "       [2.29, 2.29, 22.83, ..., 't', 'g', 2384.0],\n",
       "       [3.29, 3.5, 40.58, ..., 't', 's', 0.0]], dtype=object)"
      ]
     },
     "execution_count": 18,
     "metadata": {},
     "output_type": "execute_result"
    }
   ],
   "source": [
    "preprocessor.fit_transform(X_train)"
   ]
  },
  {
   "cell_type": "code",
   "execution_count": 21,
   "id": "12d949f2",
   "metadata": {},
   "outputs": [
    {
     "data": {
      "text/html": [
       "<div>\n",
       "<style scoped>\n",
       "    .dataframe tbody tr th:only-of-type {\n",
       "        vertical-align: middle;\n",
       "    }\n",
       "\n",
       "    .dataframe tbody tr th {\n",
       "        vertical-align: top;\n",
       "    }\n",
       "\n",
       "    .dataframe thead th {\n",
       "        text-align: right;\n",
       "    }\n",
       "</style>\n",
       "<table border=\"1\" class=\"dataframe\">\n",
       "  <thead>\n",
       "    <tr style=\"text-align: right;\">\n",
       "      <th></th>\n",
       "      <th>A0</th>\n",
       "      <th>A1</th>\n",
       "      <th>A2</th>\n",
       "      <th>A3</th>\n",
       "      <th>A4</th>\n",
       "      <th>A5</th>\n",
       "      <th>A6</th>\n",
       "      <th>A7</th>\n",
       "      <th>A8</th>\n",
       "      <th>A9</th>\n",
       "      <th>A10</th>\n",
       "      <th>A11</th>\n",
       "      <th>A12</th>\n",
       "      <th>A13</th>\n",
       "      <th>A14</th>\n",
       "    </tr>\n",
       "  </thead>\n",
       "  <tbody>\n",
       "    <tr>\n",
       "      <th>0</th>\n",
       "      <td>3.0</td>\n",
       "      <td>2.375</td>\n",
       "      <td>46.08</td>\n",
       "      <td>396.0</td>\n",
       "      <td>u</td>\n",
       "      <td>g</td>\n",
       "      <td>c</td>\n",
       "      <td>v</td>\n",
       "      <td>a</td>\n",
       "      <td>t</td>\n",
       "      <td>t</td>\n",
       "      <td>8.0</td>\n",
       "      <td>t</td>\n",
       "      <td>g</td>\n",
       "      <td>4159.0</td>\n",
       "    </tr>\n",
       "    <tr>\n",
       "      <th>1</th>\n",
       "      <td>2.875</td>\n",
       "      <td>0.085</td>\n",
       "      <td>15.92</td>\n",
       "      <td>120.0</td>\n",
       "      <td>u</td>\n",
       "      <td>g</td>\n",
       "      <td>q</td>\n",
       "      <td>v</td>\n",
       "      <td>a</td>\n",
       "      <td>f</td>\n",
       "      <td>f</td>\n",
       "      <td>0.0</td>\n",
       "      <td>f</td>\n",
       "      <td>g</td>\n",
       "      <td>0.0</td>\n",
       "    </tr>\n",
       "    <tr>\n",
       "      <th>2</th>\n",
       "      <td>2.125</td>\n",
       "      <td>0.085</td>\n",
       "      <td>36.33</td>\n",
       "      <td>50.0</td>\n",
       "      <td>y</td>\n",
       "      <td>p</td>\n",
       "      <td>w</td>\n",
       "      <td>v</td>\n",
       "      <td>b</td>\n",
       "      <td>t</td>\n",
       "      <td>t</td>\n",
       "      <td>1.0</td>\n",
       "      <td>f</td>\n",
       "      <td>g</td>\n",
       "      <td>1187.0</td>\n",
       "    </tr>\n",
       "    <tr>\n",
       "      <th>3</th>\n",
       "      <td>0.585</td>\n",
       "      <td>0.0</td>\n",
       "      <td>22.17</td>\n",
       "      <td>100.0</td>\n",
       "      <td>y</td>\n",
       "      <td>p</td>\n",
       "      <td>ff</td>\n",
       "      <td>ff</td>\n",
       "      <td>b</td>\n",
       "      <td>f</td>\n",
       "      <td>f</td>\n",
       "      <td>0.0</td>\n",
       "      <td>f</td>\n",
       "      <td>g</td>\n",
       "      <td>0.0</td>\n",
       "    </tr>\n",
       "    <tr>\n",
       "      <th>4</th>\n",
       "      <td>7.04</td>\n",
       "      <td>14.0</td>\n",
       "      <td>57.83</td>\n",
       "      <td>360.0</td>\n",
       "      <td>u</td>\n",
       "      <td>g</td>\n",
       "      <td>m</td>\n",
       "      <td>v</td>\n",
       "      <td>b</td>\n",
       "      <td>t</td>\n",
       "      <td>t</td>\n",
       "      <td>6.0</td>\n",
       "      <td>t</td>\n",
       "      <td>g</td>\n",
       "      <td>1332.0</td>\n",
       "    </tr>\n",
       "  </tbody>\n",
       "</table>\n",
       "</div>"
      ],
      "text/plain": [
       "      A0     A1     A2     A3 A4 A5  A6  A7 A8 A9 A10  A11 A12 A13     A14\n",
       "0    3.0  2.375  46.08  396.0  u  g   c   v  a  t   t  8.0   t   g  4159.0\n",
       "1  2.875  0.085  15.92  120.0  u  g   q   v  a  f   f  0.0   f   g     0.0\n",
       "2  2.125  0.085  36.33   50.0  y  p   w   v  b  t   t  1.0   f   g  1187.0\n",
       "3  0.585    0.0  22.17  100.0  y  p  ff  ff  b  f   f  0.0   f   g     0.0\n",
       "4   7.04   14.0  57.83  360.0  u  g   m   v  b  t   t  6.0   t   g  1332.0"
      ]
     },
     "execution_count": 21,
     "metadata": {},
     "output_type": "execute_result"
    }
   ],
   "source": [
    "X_train_new = pd.DataFrame(preprocessor.fit_transform(X_train),columns=X_train.columns)\n",
    "X_train_new.head()"
   ]
  },
  {
   "cell_type": "code",
   "execution_count": null,
   "id": "2daeac8d",
   "metadata": {},
   "outputs": [],
   "source": []
  }
 ],
 "metadata": {
  "kernelspec": {
   "display_name": "Python 3 (ipykernel)",
   "language": "python",
   "name": "python3"
  },
  "language_info": {
   "codemirror_mode": {
    "name": "ipython",
    "version": 3
   },
   "file_extension": ".py",
   "mimetype": "text/x-python",
   "name": "python",
   "nbconvert_exporter": "python",
   "pygments_lexer": "ipython3",
   "version": "3.9.12"
  }
 },
 "nbformat": 4,
 "nbformat_minor": 5
}
