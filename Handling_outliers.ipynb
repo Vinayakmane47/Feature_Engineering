{
 "cells": [
  {
   "cell_type": "markdown",
   "id": "f750f9c4",
   "metadata": {},
   "source": [
    "### 1. Trimming outliers from the dataset\n"
   ]
  },
  {
   "cell_type": "code",
   "execution_count": null,
   "id": "b09a93a4",
   "metadata": {},
   "outputs": [],
   "source": [
    "def outliers_table(df): \n",
    "    df = df[df.dtypes[df.dtypes != object].index]\n",
    "    d = dict()\n",
    "    l1 = []\n",
    "    l2 = []\n",
    "    l3 = []\n",
    "    l4 = []\n",
    "    l5 = []\n",
    "    for feature in df.columns : \n",
    "        IQR = np.quantile(df[feature],0.75) - np.quantile(df[feature],0.25)\n",
    "        upper_boundary = np.quantile(df[feature],0.75) + (IQR *1.5)\n",
    "        lower_boundary = np.quantile(df[feature],0.25) - (IQR *1.5)\n",
    "        l1.append(feature)\n",
    "        l2.append(upper_boundary)\n",
    "        l3.append(lower_boundary)\n",
    "        l4.append(IQR)\n",
    "        count = df[feature][(df[feature] > upper_boundary) | (df[feature] < lower_boundary)].count()\n",
    "        l5.append(count)\n",
    "    d['feature'] = l1 \n",
    "    d['upper_boundary'] = l2 \n",
    "    d['lower_boundary'] = l3 \n",
    "    d['IQR'] = l4\n",
    "    d['Outliers_count'] = l5\n",
    "    outliers_table = pd.DataFrame(d)\n",
    "    return outliers_table \n",
    "\n",
    "## Now trim the data which have outliers \n",
    "outliers_RM = np.where(df['RM'] > outliers_table(df).loc[5,'upper_boundary'], True, \n",
    "                       np.where(df['RM'] < outliers_table(df).loc[5,'lower_boundary'], True, False))\n",
    "\"\"\" 'RM' --> \"Column of Boston house table \" \"\"\"\n",
    "\n",
    "df.loc[~(outliers_RM)]"
   ]
  },
  {
   "cell_type": "code",
   "execution_count": null,
   "id": "81d91bdb",
   "metadata": {},
   "outputs": [],
   "source": [
    "## We can also do that : \n",
    "lower_boundary = df[variable].mean() - (df[variable].std() *distance)\n",
    "upper_boundary = df[variable].mean() + (df[variable].std() *distance)"
   ]
  },
  {
   "cell_type": "markdown",
   "id": "d233c049",
   "metadata": {},
   "source": [
    "### 2. Performing winsorization\n",
    "- Winsorization, or winsorizing, is the process of transforming the data by limiting the extreme values, that is, the outliers, to a certain arbitrary value, closer to the mean of the distribution. Winsorizing is different from trimming because the extreme values are not removed, but are instead replaced by other values. A typical strategy involves setting outliers to a specified percentile.\n",
    "\n",
    "- For example, with 90% winsorization, we set all data below the 5th percentile to the value at the 5th percentile and all data above the 95th percentile to the value at the 95th percentile"
   ]
  },
  {
   "cell_type": "code",
   "execution_count": null,
   "id": "274b3433",
   "metadata": {},
   "outputs": [],
   "source": [
    "def winsorize(df, variable, upper_limit, lower_limit):\n",
    "     return np.where(df[variable] > upper_limit, upper_limit,\n",
    "                     np.where(df[variable] < lower_limit, lower_limit,df[variable]))\n",
    "variable = 'RM'\n",
    "upper_limit = outliers_table(df).loc[5,'upper_boundary']\n",
    "lower_limit = outliers_table(df).loc[5,'lower_boundary']\n",
    "\n",
    "winsorize(df,'RM',upper_limit ,lower_limit)"
   ]
  },
  {
   "cell_type": "code",
   "execution_count": null,
   "id": "d46136f5",
   "metadata": {},
   "outputs": [],
   "source": [
    "## Also with feature engine library . \n",
    "from feature_engine.outliers import Winsorizer\n",
    "windsorizer = Winsorizer( tail='both',variables=['RM', 'LSTAT', 'CRIM'], \n",
    "                        capping_method = 'quantiles',fold=0.05)\n",
    "## Fold = 0.05 means 5% and 95% , fold = 0.25 means 25% and 75% \n",
    "\n",
    "windsorizer.fit_transform(df)"
   ]
  },
  {
   "cell_type": "markdown",
   "id": "c62d6732",
   "metadata": {},
   "source": [
    "### 3.Capping the variable at arbitrary maximum and minimum values\n",
    "- Similarly to winsorization, we can replace the extreme values by values closer to other values in the variable, by determining the maximum and minimum boundaries with the mean plus or minus the standard deviation, or the inter-quartile range proximity rule. This procedure is also called bottom and top coding, censoring, or capping. We can cap both extremes of the distribution or just one of the tails, depending on where we find the outliers in the variable.\n"
   ]
  },
  {
   "cell_type": "code",
   "execution_count": null,
   "id": "b81a3f9c",
   "metadata": {},
   "outputs": [],
   "source": [
    "from feature_engine.outliers import Winsorizer\n",
    "windsorizer = Winsorizer(distribution='gaussian', tail='both',\n",
    "fold=3, variables=['RM', 'LSTAT', 'CRIM'])\n"
   ]
  },
  {
   "cell_type": "markdown",
   "id": "5f872cad",
   "metadata": {},
   "source": [
    "### 4.Performing zero-coding – capping the variable at zero\n",
    "- In econometrics and statistics, top-coding and bottom-coding refer to the act of censoring data points, the values of which are above or below a certain number or threshold, respectively.\n",
    "\n",
    "-  Zero-coding is a variant of bottom-coding and refers to the process of capping, usually the lower value of the variable, at zero. It is commonly used for variables that cannot take negative values, such as age or income.\n"
   ]
  },
  {
   "cell_type": "code",
   "execution_count": 1,
   "id": "d599332a",
   "metadata": {},
   "outputs": [],
   "source": [
    "from feature_engine.outliers import ArbitraryOutlierCapper\n",
    "windsorizer = ArbitraryOutlierCapper(max_capping_dict=None, \n",
    "                                     min_capping_dict={'x':0, 'y':0, 'z':0})\n",
    "\n",
    "## if values are below lower boundary then they are mapped to zeros \n",
    "\n"
   ]
  },
  {
   "cell_type": "code",
   "execution_count": null,
   "id": "7caefceb",
   "metadata": {},
   "outputs": [],
   "source": []
  }
 ],
 "metadata": {
  "kernelspec": {
   "display_name": "Python 3 (ipykernel)",
   "language": "python",
   "name": "python3"
  },
  "language_info": {
   "codemirror_mode": {
    "name": "ipython",
    "version": 3
   },
   "file_extension": ".py",
   "mimetype": "text/x-python",
   "name": "python",
   "nbconvert_exporter": "python",
   "pygments_lexer": "ipython3",
   "version": "3.9.12"
  }
 },
 "nbformat": 4,
 "nbformat_minor": 5
}
